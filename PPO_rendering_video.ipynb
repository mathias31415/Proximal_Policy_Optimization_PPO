{
 "cells": [
  {
   "cell_type": "code",
   "execution_count": 1,
   "id": "fc84b80b",
   "metadata": {},
   "outputs": [
    {
     "name": "stdout",
     "output_type": "stream",
     "text": [
      "WARNING:tensorflow:From c:\\Users\\Mathias\\anaconda3\\Lib\\site-packages\\keras\\src\\losses.py:2976: The name tf.losses.sparse_softmax_cross_entropy is deprecated. Please use tf.compat.v1.losses.sparse_softmax_cross_entropy instead.\n",
      "\n"
     ]
    }
   ],
   "source": [
    "import gymnasium as gym\n",
    "import numpy as np\n",
    "import tensorflow as tf\n",
    "import pygame\n",
    "\n",
    "from lib.PPOAgentDiscrete import PPOAgentDiscrete as PPOAgent"
   ]
  },
  {
   "cell_type": "markdown",
   "id": "c76c7c17",
   "metadata": {},
   "source": [
    "## Function to save Video"
   ]
  },
  {
   "cell_type": "code",
   "execution_count": 2,
   "id": "322be788",
   "metadata": {},
   "outputs": [],
   "source": [
    "from gymnasium.wrappers.monitoring.video_recorder import VideoRecorder\n",
    "\n",
    "# pip install moviepy\n",
    "\n",
    "def render_and_save_video(env, agent, video_path, num_episodes=1):\n",
    "    # Wrap the environment with Monitor to record the video\n",
    "    monitored_env = VideoRecorder(env, video_path)\n",
    "\n",
    "    try:\n",
    "        for episode in range(num_episodes):\n",
    "            obs,_ = env.reset()\n",
    "            done = False\n",
    "\n",
    "            while not done:\n",
    "                env.render()\n",
    "                monitored_env.capture_frame()\n",
    "                action = agent.act(np.array([obs]))\n",
    "                obs, _, termination, truncation, _ = env.step(action)\n",
    "\n",
    "                if termination or truncation:\n",
    "                    done = True\n",
    "                    obs,_ = env.reset()\n",
    "                    print(f'Episode {episode} of {num_episodes} finished.')\n",
    "\n",
    "        print(f'Finished recording {num_episodes} episodes. Video saved at: {video_path}')\n",
    "\n",
    "    except KeyboardInterrupt:\n",
    "        print('Recording interrupted')\n",
    "\n",
    "    finally:\n",
    "        monitored_env.close()\n",
    "        env.close()"
   ]
  },
  {
   "cell_type": "markdown",
   "id": "fcfdf8ec",
   "metadata": {},
   "source": [
    "## Rendering with pygame"
   ]
  },
  {
   "cell_type": "code",
   "execution_count": 5,
   "id": "caa13527",
   "metadata": {},
   "outputs": [],
   "source": [
    "\n",
    "## Mountain Car discrete\n",
    "# directory = \"CustomMountainCarEnv_acceleration_discrete_20240111_085352\"\n",
    "# directory = \"CustomMountainCarEnv_acceleration_discrete_20240112_084448\"\n",
    "# directory = \"CustomMountainCarEnv_discrete_20240111_222956\"\n",
    "# directory = \"CustomMountainCarEnv_position_discrete_20240111_174107\"\n",
    "# directory = \"CustomMountainCarEnv_velocity_discrete_20240113_183312\"\n",
    "directory = \"CustomMountainCarEnv_velocity_discrete_20240114_000941_200epochs\"\n",
    "\n",
    "\n",
    "## Mountain Car continuous\n",
    "# directory = \"CustomMountainCarEnv_continuous_20240111_134548\"\n",
    "# directory = \"CustomMountainCarEnv_velocity_continuous_20240109_094032\"\n",
    "# directory = \"CustomMountainCarEnv_velocity_continuous_20240113_181956\"\n",
    "\n",
    "\n",
    "\n",
    "filepath = f\"model/{directory}/\"\n",
    "\n",
    "filepath_actor = f\"{filepath}actor.h5\"\n",
    "filepath_critic = f\"{filepath}critic.h5\"\n",
    "filepath_video = f\"{filepath}{directory}.mp4\"\n"
   ]
  },
  {
   "cell_type": "markdown",
   "id": "358e6b16",
   "metadata": {},
   "source": [
    "!!! make sure to use the correct environment for the loaded model !!!"
   ]
  },
  {
   "cell_type": "markdown",
   "id": "21add1fa",
   "metadata": {},
   "source": [
    "## Render Environment"
   ]
  },
  {
   "cell_type": "code",
   "execution_count": 6,
   "id": "10110592",
   "metadata": {},
   "outputs": [
    {
     "name": "stdout",
     "output_type": "stream",
     "text": [
      "Model loaded sucessful\n",
      "Episode 0 finished\n",
      "Closed Rendering sucessful\n"
     ]
    }
   ],
   "source": [
    "from lib.render_GUI import render_GUI\n",
    "\n",
    "# Set up the enviroment and load the trained agent from directory\n",
    "render_env = gym.make('MountainCar-v0', render_mode = 'human')\n",
    "# render_env = gym.make('MountainCarContinuous-v0', render_mode = 'human')\n",
    "\n",
    "render_agent = PPOAgent(render_env.action_space, render_env.observation_space)\n",
    "render_agent._init_networks()\n",
    "\n",
    "render_agent.load_models(filepath_actor, filepath_critic)\n",
    "\n",
    "#call the function\n",
    "render_GUI(render_env, render_agent)\n"
   ]
  },
  {
   "cell_type": "markdown",
   "id": "1a8f9848",
   "metadata": {},
   "source": [
    "## Create Video"
   ]
  },
  {
   "cell_type": "code",
   "execution_count": null,
   "id": "c1b8ac4a",
   "metadata": {},
   "outputs": [
    {
     "name": "stdout",
     "output_type": "stream",
     "text": [
      "Model loaded sucessful\n",
      "Episode 0 of 10 finished.\n",
      "Episode 1 of 10 finished.\n",
      "Episode 2 of 10 finished.\n",
      "Episode 3 of 10 finished.\n",
      "Episode 4 of 10 finished.\n",
      "Episode 5 of 10 finished.\n",
      "Episode 6 of 10 finished.\n",
      "Episode 7 of 10 finished.\n",
      "Episode 8 of 10 finished.\n",
      "Episode 9 of 10 finished.\n",
      "Finished recording 10 episodes. Video saved at: model/CustomMountainCarEnv_velocity_discrete_20240112_132623/CustomMountainCarEnv_velocity_discrete_20240112_132623.mp4\n",
      "Moviepy - Building video model/CustomMountainCarEnv_velocity_discrete_20240112_132623/CustomMountainCarEnv_velocity_discrete_20240112_132623.mp4.\n",
      "Moviepy - Writing video model/CustomMountainCarEnv_velocity_discrete_20240112_132623/CustomMountainCarEnv_velocity_discrete_20240112_132623.mp4\n",
      "\n"
     ]
    },
    {
     "name": "stderr",
     "output_type": "stream",
     "text": [
      "                                                                 \r"
     ]
    },
    {
     "name": "stdout",
     "output_type": "stream",
     "text": [
      "Moviepy - Done !\n",
      "Moviepy - video ready model/CustomMountainCarEnv_velocity_discrete_20240112_132623/CustomMountainCarEnv_velocity_discrete_20240112_132623.mp4\n"
     ]
    }
   ],
   "source": [
    "# Set up the enviroment and load the trained agent from directory\n",
    "video_env = gym.make('MountainCar-v0', render_mode = 'rgb_array')\n",
    "# video_env = gym.make('MountainCarContinuous-v0', render_mode = 'rgb_array') \n",
    "\n",
    "render_agent = PPOAgent(video_env.action_space, video_env.observation_space)\n",
    "render_agent._init_networks()\n",
    "\n",
    "render_agent.load_models(filepath_actor, filepath_critic)\n",
    "\n",
    "#call the function\n",
    "render_and_save_video(video_env, render_agent, filepath_video, num_episodes=10)\n"
   ]
  }
 ],
 "metadata": {
  "kernelspec": {
   "display_name": "Python 3 (ipykernel)",
   "language": "python",
   "name": "python3"
  },
  "language_info": {
   "codemirror_mode": {
    "name": "ipython",
    "version": 3
   },
   "file_extension": ".py",
   "mimetype": "text/x-python",
   "name": "python",
   "nbconvert_exporter": "python",
   "pygments_lexer": "ipython3",
   "version": "3.11.5"
  }
 },
 "nbformat": 4,
 "nbformat_minor": 5
}
